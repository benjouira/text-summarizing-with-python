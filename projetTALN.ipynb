{
 "cells": [
  {
   "cell_type": "code",
   "execution_count": 29,
   "id": "527b8ea2",
   "metadata": {},
   "outputs": [],
   "source": [
    "# !pip install spacy"
   ]
  },
  {
   "cell_type": "code",
   "execution_count": 28,
   "id": "8086ab21",
   "metadata": {},
   "outputs": [],
   "source": [
    "# !python -m spacy download fr_core_news_sm"
   ]
  },
  {
   "cell_type": "code",
   "execution_count": 73,
   "id": "64065bc3",
   "metadata": {},
   "outputs": [],
   "source": [
    "# pip install nltk"
   ]
  },
  {
   "cell_type": "code",
   "execution_count": 31,
   "id": "7ff6f347",
   "metadata": {},
   "outputs": [],
   "source": [
    "# pip install docx2txt"
   ]
  },
  {
   "cell_type": "code",
   "execution_count": 139,
   "id": "a4a354ad",
   "metadata": {},
   "outputs": [],
   "source": [
    "# nltk.download('punkt')"
   ]
  },
  {
   "cell_type": "code",
   "execution_count": 166,
   "id": "d5f005a3",
   "metadata": {},
   "outputs": [],
   "source": [
    "# nltk.download('stopwords')"
   ]
  },
  {
   "cell_type": "code",
   "execution_count": 344,
   "id": "6b817bef",
   "metadata": {},
   "outputs": [],
   "source": [
    "import spacy\n",
    "import docx2txt\n",
    "import re\n",
    "import nltk\n",
    "from spacy.lang.fr.stop_words import STOP_WORDS\n",
    "from string import punctuation"
   ]
  },
  {
   "cell_type": "code",
   "execution_count": 345,
   "id": "d44ecc26",
   "metadata": {},
   "outputs": [],
   "source": [
    "nlp = spacy.load(\"fr_core_news_sm\")"
   ]
  },
  {
   "cell_type": "code",
   "execution_count": 346,
   "id": "10f2d4d8",
   "metadata": {},
   "outputs": [],
   "source": [
    "# load text\n",
    "text = docx2txt.process(\"TexteAResumer.docx\")\n"
   ]
  },
  {
   "cell_type": "code",
   "execution_count": 348,
   "id": "ad2dc621",
   "metadata": {},
   "outputs": [
    {
     "name": "stdout",
     "output_type": "stream",
     "text": [
      "<h1>Internet</h1>\n",
      "\n",
      "<h2>1. Historique</h2>\n",
      "\n",
      "<p>Internet paraît une nouveauté sortie très récemment du néant. Et pourtant, le principe naît en 1969 aux Etats-Unis : création de laboratoires militaires américains. Au début, Internet n'est accessible qu'aux universités et aux grandes entreprises. C'est au début des années 90 qu'Internet va connaître un formidable essor avec l'arrivée du Web : pour la première fois Internet présente une interface graphique interactive, simple, conviviale et rapide…</p>\n",
      "\n",
      "<h2>2. Définition de l’Internet</h2>\n",
      "\n",
      "<p>Le mot Internet vient de l’anglais Interconnected Networks, ce qui lui a valu d’être appelé le \"réseau des réseaux\". Ces réseaux se communiquent entre eux grâce à des règles d’échanges de données standard. Ces règles sont connues sous le nom de protocoles et permettent de faire communiquer plusieurs ordinateurs et plusieurs réseaux entre eux. Internet est donc un réseau international qui relie des millions d’ordinateurs.</p>\n",
      "\n",
      "<h2>3. Le web</h2>\n",
      "\n",
      "<h3>3.1. Définition</h3>\n",
      "\n",
      "<p>Le Web ou le World Wide Web (d’où l’acronyme WWW) permet de consulter des sites web en utilisant le protocole HTTP (HyperText Transfert Protocol). Ce service est le plus utilisé en termes de volume d’informations transitant sur le réseau Internet. Il permet aux internautes d’accéder à des documents multimédia sur des millions de serveurs web.</p>\n",
      "\n",
      "<p>La caractéristique principale du service web est qu’un serveur peut à tout moment rediriger l’utilisateur vers des informations contenues sur d’autres serveurs.</p>\n",
      "\n",
      "<h3>3.2. Recherche d'informations</h3>\n",
      "\n",
      "<p>Internet met à la disposition de ses utilisateurs un grand nombre de ressources (informations, logiciels, images, vidéos, etc.), il se présente comme une énorme bibliothèque. Il est donc nécessaire de disposer d’outils efficaces pour retrouver les informations désirées. On trouve principalement les catalogues (appelés aussi annuaires) et les moteurs de recherches.</p>\n"
     ]
    }
   ],
   "source": [
    "print (text)"
   ]
  },
  {
   "cell_type": "code",
   "execution_count": 349,
   "id": "9e5d09d7",
   "metadata": {},
   "outputs": [],
   "source": [
    "# text pre-processing"
   ]
  },
  {
   "cell_type": "code",
   "execution_count": 350,
   "id": "ecf5017e",
   "metadata": {},
   "outputs": [],
   "source": [
    "clean = re.sub('<h1>.*?</h1>', '', text)\n",
    "clean = re.sub('<h2>.*?</h2>', '', clean)\n",
    "clean = re.sub('<h3>.*?</h3>', '', clean)\n",
    "clean = re.sub('<.*?>', '', clean)\n",
    "# to lower\n",
    "clean = clean.lower()\n",
    "# remove numbers\n",
    "# clean = re.sub(r'\\d+',' ', clean)\n",
    "# change ’ with '\n",
    "clean = re.sub(r'’',\"'\", clean)\n",
    "# change ... with .\n",
    "clean = re.sub(r'…',\".\", clean)\n",
    "#removes leading and trailing whitespaces\n",
    "clean = re.sub('\\s+', ' ', clean).strip()\n"
   ]
  },
  {
   "cell_type": "code",
   "execution_count": 351,
   "id": "607c763b",
   "metadata": {},
   "outputs": [
    {
     "name": "stdout",
     "output_type": "stream",
     "text": [
      "internet paraît une nouveauté sortie très récemment du néant. et pourtant, le principe naît en 1969 aux etats-unis : création de laboratoires militaires américains. au début, internet n'est accessible qu'aux universités et aux grandes entreprises. c'est au début des années 90 qu'internet va connaître un formidable essor avec l'arrivée du web : pour la première fois internet présente une interface graphique interactive, simple, conviviale et rapide. le mot internet vient de l'anglais interconnected networks, ce qui lui a valu d'être appelé le \"réseau des réseaux\". ces réseaux se communiquent entre eux grâce à des règles d'échanges de données standard. ces règles sont connues sous le nom de protocoles et permettent de faire communiquer plusieurs ordinateurs et plusieurs réseaux entre eux. internet est donc un réseau international qui relie des millions d'ordinateurs. le web ou le world wide web (d'où l'acronyme www) permet de consulter des sites web en utilisant le protocole http (hypertext transfert protocol). ce service est le plus utilisé en termes de volume d'informations transitant sur le réseau internet. il permet aux internautes d'accéder à des documents multimédia sur des millions de serveurs web. la caractéristique principale du service web est qu'un serveur peut à tout moment rediriger l'utilisateur vers des informations contenues sur d'autres serveurs. internet met à la disposition de ses utilisateurs un grand nombre de ressources (informations, logiciels, images, vidéos, etc.), il se présente comme une énorme bibliothèque. il est donc nécessaire de disposer d'outils efficaces pour retrouver les informations désirées. on trouve principalement les catalogues (appelés aussi annuaires) et les moteurs de recherches.\n"
     ]
    }
   ],
   "source": [
    "print (clean)"
   ]
  },
  {
   "cell_type": "code",
   "execution_count": 353,
   "id": "473aa955",
   "metadata": {},
   "outputs": [
    {
     "name": "stdout",
     "output_type": "stream",
     "text": [
      "1750\n",
      "311\n"
     ]
    }
   ],
   "source": [
    "doc = nlp(clean)\n",
    "print (len(clean))\n",
    "print ( len (doc))"
   ]
  },
  {
   "cell_type": "code",
   "execution_count": 354,
   "id": "2391cac4",
   "metadata": {},
   "outputs": [
    {
     "data": {
      "text/plain": [
       "{1: internet paraît une nouveauté sortie très récemment du néant.,\n",
       " 2: et pourtant, le principe naît en 1969 aux etats-unis : création de laboratoires militaires américains.,\n",
       " 3: au début, internet n'est accessible qu'aux universités et aux grandes entreprises.,\n",
       " 4: c'est au début des années 90 qu'internet va connaître un formidable essor avec l'arrivée du web : pour la première fois internet présente une interface graphique interactive, simple, conviviale et rapide.,\n",
       " 5: le mot internet vient de l'anglais interconnected networks, ce qui lui a valu d'être appelé le \"réseau des réseaux\".,\n",
       " 6: ces réseaux se communiquent entre eux grâce à des règles d'échanges de données standard.,\n",
       " 7: ces règles sont connues sous le nom de protocoles et permettent de faire communiquer plusieurs ordinateurs et plusieurs réseaux entre eux.,\n",
       " 8: internet est donc un réseau international qui relie des millions d'ordinateurs.,\n",
       " 9: le web ou le world wide web (d'où l'acronyme www) permet de consulter des sites web en utilisant le protocole http (hypertext transfert protocol).,\n",
       " 10: ce service est le plus utilisé en termes de volume d'informations transitant sur le réseau internet.,\n",
       " 11: il permet aux internautes d'accéder à des documents multimédia sur des millions de serveurs web.,\n",
       " 12: la caractéristique principale du service web est qu'un serveur peut à tout moment rediriger l'utilisateur vers des informations contenues sur d'autres serveurs.,\n",
       " 13: internet met à la disposition de ses utilisateurs un grand nombre de ressources (informations, logiciels, images, vidéos, etc.), il se présente comme une énorme bibliothèque.,\n",
       " 14: il est donc nécessaire de disposer d'outils efficaces pour retrouver les informations désirées.,\n",
       " 15: on trouve principalement les catalogues (appelés aussi annuaires) et les moteurs de recherches.}"
      ]
     },
     "execution_count": 354,
     "metadata": {},
     "output_type": "execute_result"
    }
   ],
   "source": [
    "# split and tokenize to sentences \n",
    "sentences = doc.sents\n",
    "i=1\n",
    "tokenSentences={}\n",
    "for sent in sentences:\n",
    "    tokenSentences[i]=sent\n",
    "    i=i+1\n",
    "    \n",
    "tokenSentences"
   ]
  },
  {
   "cell_type": "code",
   "execution_count": 355,
   "id": "845b7978",
   "metadata": {},
   "outputs": [],
   "source": [
    "#remove punctuations better for NLTK\n",
    "# clean = re.sub(r'\\W+', ' ', clean)"
   ]
  },
  {
   "cell_type": "code",
   "execution_count": 361,
   "id": "0276a731",
   "metadata": {},
   "outputs": [
    {
     "name": "stdout",
     "output_type": "stream",
     "text": [
      "295\n",
      "311\n",
      "['internet', 'paraît', 'une', 'nouveauté', 'sortie', 'très', 'récemment', 'du', 'néant', '.', 'et', 'pourtant', ',', 'le', 'principe', 'naît', 'en', '1969', 'aux', 'etats-unis', ':', 'création', 'de', 'laboratoires', 'militaires', 'américains', '.', 'au', 'début', ',', 'internet', \"n'\", 'est', 'accessible', \"qu'\", 'aux', 'universités', 'et', 'aux', 'grandes', 'entreprises', '.', \"c'\", 'est', 'au', 'début', 'des', 'années', '90', \"qu'\", 'internet', 'va', 'connaître', 'un', 'formidable', 'essor', 'avec', \"l'\", 'arrivée', 'du', 'web', ':', 'pour', 'la', 'première', 'fois', 'internet', 'présente', 'une', 'interface', 'graphique', 'interactive', ',', 'simple', ',', 'conviviale', 'et', 'rapide', '.', 'le', 'mot', 'internet', 'vient', 'de', \"l'\", 'anglais', 'interconnected', 'networks', ',', 'ce', 'qui', 'lui', 'a', 'valu', \"d'\", 'être', 'appelé', 'le', '\"', 'réseau', 'des', 'réseaux', '\"', '.', 'ces', 'réseaux', 'se', 'communiquent', 'entre', 'eux', 'grâce', 'à', 'des', 'règles', \"d'\", 'échanges', 'de', 'données', 'standard', '.', 'ces', 'règles', 'sont', 'connues', 'sous', 'le', 'nom', 'de', 'protocoles', 'et', 'permettent', 'de', 'faire', 'communiquer', 'plusieurs', 'ordinateurs', 'et', 'plusieurs', 'réseaux', 'entre', 'eux', '.', 'internet', 'est', 'donc', 'un', 'réseau', 'international', 'qui', 'relie', 'des', 'millions', \"d'\", 'ordinateurs', '.', 'le', 'web', 'ou', 'le', 'world', 'wide', 'web', '(', \"d'\", 'où', \"l'\", 'acronyme', 'www', ')', 'permet', 'de', 'consulter', 'des', 'sites', 'web', 'en', 'utilisant', 'le', 'protocole', 'http', '(', 'hypertext', 'transfert', 'protocol', ')', '.', 'ce', 'service', 'est', 'le', 'plus', 'utilisé', 'en', 'termes', 'de', 'volume', \"d'\", 'informations', 'transitant', 'sur', 'le', 'réseau', 'internet', '.', 'il', 'permet', 'aux', 'internautes', \"d'\", 'accéder', 'à', 'des', 'documents', 'multimédia', 'sur', 'des', 'millions', 'de', 'serveurs', 'web', '.', 'la', 'caractéristique', 'principale', 'du', 'service', 'web', 'est', \"qu'\", 'un', 'serveur', 'peut', 'à', 'tout', 'moment', 'rediriger', \"l'\", 'utilisateur', 'vers', 'des', 'informations', 'contenues', 'sur', \"d'\", 'autres', 'serveurs', '.', 'internet', 'met', 'à', 'la', 'disposition', 'de', 'ses', 'utilisateurs', 'un', 'grand', 'nombre', 'de', 'ressources', '(', 'informations', ',', 'logiciels', ',', 'images', ',', 'vidéos', ',', 'etc.', ')', ',', 'il', 'se', 'présente', 'comme', 'une', 'énorme', 'bibliothèque', '.', 'il', 'est', 'donc', 'nécessaire', 'de', 'disposer', \"d'\", 'outils', 'efficaces', 'pour', 'retrouver', 'les', 'informations', 'désirées', '.', 'on', 'trouve', 'principalement', 'les', 'catalogues', '(', 'appelés', 'aussi', 'annuaires', ')', 'et', 'les', 'moteurs', 'de', 'recherches', '.']\n"
     ]
    }
   ],
   "source": [
    "# split to words\n",
    "wordsNLTK = nltk.word_tokenize(clean)\n",
    "wordsSPACY = [word.text for word in doc]\n",
    "print(len(wordsNLTK))\n",
    "print(len(wordsSPACY))\n",
    "print(wordsSPACY)"
   ]
  },
  {
   "cell_type": "code",
   "execution_count": 357,
   "id": "8f9c3d96",
   "metadata": {},
   "outputs": [],
   "source": [
    "# we gona use spacy doc because it have more number of words "
   ]
  },
  {
   "cell_type": "code",
   "execution_count": 362,
   "id": "96546be3",
   "metadata": {},
   "outputs": [
    {
     "name": "stdout",
     "output_type": "stream",
     "text": [
      "507\n",
      "157\n"
     ]
    }
   ],
   "source": [
    "# stopwords spacy vs stopwords nltk\n",
    "stopwords_spacy = list(STOP_WORDS)\n",
    "stopwords_nltk = nltk.corpus.stopwords.words('french')\n",
    "print(len(stopwords_spacy))\n",
    "print(len(stopwords_nltk))"
   ]
  },
  {
   "cell_type": "code",
   "execution_count": 359,
   "id": "b828a479",
   "metadata": {},
   "outputs": [],
   "source": [
    "# we gona use spacy STOP_WORDS because it have more stopwords"
   ]
  },
  {
   "cell_type": "code",
   "execution_count": 363,
   "id": "aeb80cd2",
   "metadata": {},
   "outputs": [
    {
     "data": {
      "text/plain": [
       "'!\"#$%&\\'()*+,-./:;<=>?@[\\\\]^_`{|}~'"
      ]
     },
     "execution_count": 363,
     "metadata": {},
     "output_type": "execute_result"
    }
   ],
   "source": [
    "# spacy punct list\n",
    "# punctuation is mutable so you can add another symbol punctuation = punctuation + '§'\n",
    "punctuation"
   ]
  },
  {
   "cell_type": "code",
   "execution_count": 364,
   "id": "104afaff",
   "metadata": {},
   "outputs": [
    {
     "data": {
      "text/plain": [
       "'internet paraître un nouveauté sortir très récemment de néant . et pourtant , le principe naître en 1969 à etats-unis : création de laboratoire militaire américain . au début , internet n\\' être accessible que à université et à grand entreprise . ce être au début de année 90 qu\\' internet aller connaître un formidable essor avec le arrivée de web : pour le premier fois internet présente un interface graphique interactif , simple , convivial et rapide . le mot internet vient de le anglais interconnected network , ce qui lui avoir valoir de être appeler le \" réseau de réseau \" . ce réseau se communiquer entre lui grâce à un règle de échange de donnée standard . ce règle être connaître sous le nom de protocole et permettre de faire communiquer plusieurs ordinateur et plusieurs réseau entre lui . internet être donc un réseau international qui relier de million de ordinateur . le web ou le world wid web ( de où le acronyme www ) permettre de consulter un site web en utiliser le protocole http ( hypertext transfert protocol ) . ce service être le plus utiliser en terme de volume de information transiter sur le réseau internet . il permettre à internaute de accéder à un document multimédia sur un million de serveur web . le caractéristique principal de service web être que un serveur pouvoir à tout moment rediriger le utilisateur vers un information contenu sur d\\' autre serveur . internet mettre à le disposition de son utilisateur un grand nombre de ressource ( information , logiciel , image , vidéo , etc. ) , il se présente comme un énorme bibliothèque . il être donc nécessaire de disposer de outil efficace pour retrouver le information désirer . on trouve principalement le catalogue ( appeler aussi annuaire ) et le moteur de recherche .'"
      ]
     },
     "execution_count": 364,
     "metadata": {},
     "output_type": "execute_result"
    }
   ],
   "source": [
    "# Extract the lemma for each word\n",
    "finalCleanText = \" \".join([token.lemma_ for token in doc])\n",
    "finalCleanText"
   ]
  },
  {
   "cell_type": "code",
   "execution_count": 365,
   "id": "2f3fc63f",
   "metadata": {},
   "outputs": [],
   "source": [
    "# convert the new lemma text from text type to nlp type\n",
    "# to facilate the work later\n",
    "doc = nlp(finalCleanText)"
   ]
  },
  {
   "cell_type": "code",
   "execution_count": 366,
   "id": "509eac18",
   "metadata": {},
   "outputs": [],
   "source": [
    "# calculat the frequencies of words without considerate the puncts and the stopwords\n",
    "word_frequencies = {}\n",
    "for word in doc:\n",
    "    if word.text.lower() not in stopwords_spacy:\n",
    "        if word.text.lower() not in punctuation:\n",
    "            if word.text not in word_frequencies.keys():\n",
    "                word_frequencies[word.text]=1\n",
    "            else:\n",
    "                word_frequencies[word.text]+=1"
   ]
  },
  {
   "cell_type": "code",
   "execution_count": 368,
   "id": "d5429708",
   "metadata": {},
   "outputs": [
    {
     "data": {
      "text/plain": [
       "{'internet': 8,\n",
       " 'paraître': 1,\n",
       " 'nouveauté': 1,\n",
       " 'sortir': 1,\n",
       " 'récemment': 1,\n",
       " 'néant': 1,\n",
       " 'pourtant': 1,\n",
       " 'principe': 1,\n",
       " 'naître': 1,\n",
       " '1969': 1,\n",
       " 'etats-unis': 1,\n",
       " 'création': 1,\n",
       " 'laboratoire': 1,\n",
       " 'militaire': 1,\n",
       " 'américain': 1,\n",
       " 'début': 2,\n",
       " 'n': 1,\n",
       " 'accessible': 1,\n",
       " 'université': 1,\n",
       " 'grand': 2,\n",
       " 'entreprise': 1,\n",
       " 'année': 1,\n",
       " '90': 1,\n",
       " 'qu': 1,\n",
       " 'aller': 1,\n",
       " 'connaître': 2,\n",
       " 'formidable': 1,\n",
       " 'essor': 1,\n",
       " 'arrivée': 1,\n",
       " 'web': 6,\n",
       " 'fois': 1,\n",
       " 'présente': 2,\n",
       " 'interface': 1,\n",
       " 'graphique': 1,\n",
       " 'interactif': 1,\n",
       " 'simple': 1,\n",
       " 'convivial': 1,\n",
       " 'rapide': 1,\n",
       " 'mot': 1,\n",
       " 'vient': 1,\n",
       " 'anglais': 1,\n",
       " 'interconnected': 1,\n",
       " 'network': 1,\n",
       " 'valoir': 1,\n",
       " 'appeler': 2,\n",
       " 'réseau': 6,\n",
       " 'communiquer': 2,\n",
       " 'grâce': 1,\n",
       " 'règle': 2,\n",
       " 'échange': 1,\n",
       " 'donnée': 1,\n",
       " 'standard': 1,\n",
       " 'nom': 1,\n",
       " 'protocole': 2,\n",
       " 'permettre': 3,\n",
       " 'faire': 1,\n",
       " 'ordinateur': 2,\n",
       " 'international': 1,\n",
       " 'relier': 1,\n",
       " 'million': 2,\n",
       " 'world': 1,\n",
       " 'wid': 1,\n",
       " 'acronyme': 1,\n",
       " 'www': 1,\n",
       " 'consulter': 1,\n",
       " 'site': 1,\n",
       " 'utiliser': 2,\n",
       " 'http': 1,\n",
       " 'hypertext': 1,\n",
       " 'transfert': 1,\n",
       " 'protocol': 1,\n",
       " 'service': 2,\n",
       " 'terme': 1,\n",
       " 'volume': 1,\n",
       " 'information': 4,\n",
       " 'transiter': 1,\n",
       " 'internaute': 1,\n",
       " 'accéder': 1,\n",
       " 'document': 1,\n",
       " 'multimédia': 1,\n",
       " 'serveur': 3,\n",
       " 'caractéristique': 1,\n",
       " 'principal': 1,\n",
       " 'pouvoir': 1,\n",
       " 'moment': 1,\n",
       " 'rediriger': 1,\n",
       " 'utilisateur': 2,\n",
       " 'contenu': 1,\n",
       " 'd': 1,\n",
       " 'mettre': 1,\n",
       " 'disposition': 1,\n",
       " 'nombre': 1,\n",
       " 'ressource': 1,\n",
       " 'logiciel': 1,\n",
       " 'image': 1,\n",
       " 'vidéo': 1,\n",
       " 'etc.': 1,\n",
       " 'énorme': 1,\n",
       " 'bibliothèque': 1,\n",
       " 'nécessaire': 1,\n",
       " 'disposer': 1,\n",
       " 'outil': 1,\n",
       " 'efficace': 1,\n",
       " 'retrouver': 1,\n",
       " 'désirer': 1,\n",
       " 'trouve': 1,\n",
       " 'principalement': 1,\n",
       " 'catalogue': 1,\n",
       " 'annuaire': 1,\n",
       " 'moteur': 1,\n",
       " 'recherche': 1}"
      ]
     },
     "execution_count": 368,
     "metadata": {},
     "output_type": "execute_result"
    }
   ],
   "source": [
    "word_frequencies"
   ]
  },
  {
   "cell_type": "code",
   "execution_count": 369,
   "id": "e9811727",
   "metadata": {
    "scrolled": true
   },
   "outputs": [
    {
     "name": "stdout",
     "output_type": "stream",
     "text": [
      "internet  :  8\n"
     ]
    }
   ],
   "source": [
    "# the most word exist\n",
    "max_frequency =max(word_frequencies.values())\n",
    "max_key = max(word_frequencies,key=word_frequencies.get)\n",
    "print (max_key,' : ',max_frequency)"
   ]
  },
  {
   "cell_type": "code",
   "execution_count": 372,
   "id": "9b1f44e4",
   "metadata": {},
   "outputs": [],
   "source": [
    "# calculate the score of each word\n",
    "for key in word_frequencies.keys():\n",
    "    word_frequencies[key] = word_frequencies[key]/max_frequency"
   ]
  },
  {
   "cell_type": "code",
   "execution_count": 373,
   "id": "2d3eff39",
   "metadata": {},
   "outputs": [
    {
     "data": {
      "text/plain": [
       "{'internet': 0.125,\n",
       " 'paraître': 0.015625,\n",
       " 'nouveauté': 0.015625,\n",
       " 'sortir': 0.015625,\n",
       " 'récemment': 0.015625,\n",
       " 'néant': 0.015625,\n",
       " 'pourtant': 0.015625,\n",
       " 'principe': 0.015625,\n",
       " 'naître': 0.015625,\n",
       " '1969': 0.015625,\n",
       " 'etats-unis': 0.015625,\n",
       " 'création': 0.015625,\n",
       " 'laboratoire': 0.015625,\n",
       " 'militaire': 0.015625,\n",
       " 'américain': 0.015625,\n",
       " 'début': 0.03125,\n",
       " 'n': 0.015625,\n",
       " 'accessible': 0.015625,\n",
       " 'université': 0.015625,\n",
       " 'grand': 0.03125,\n",
       " 'entreprise': 0.015625,\n",
       " 'année': 0.015625,\n",
       " '90': 0.015625,\n",
       " 'qu': 0.015625,\n",
       " 'aller': 0.015625,\n",
       " 'connaître': 0.03125,\n",
       " 'formidable': 0.015625,\n",
       " 'essor': 0.015625,\n",
       " 'arrivée': 0.015625,\n",
       " 'web': 0.09375,\n",
       " 'fois': 0.015625,\n",
       " 'présente': 0.03125,\n",
       " 'interface': 0.015625,\n",
       " 'graphique': 0.015625,\n",
       " 'interactif': 0.015625,\n",
       " 'simple': 0.015625,\n",
       " 'convivial': 0.015625,\n",
       " 'rapide': 0.015625,\n",
       " 'mot': 0.015625,\n",
       " 'vient': 0.015625,\n",
       " 'anglais': 0.015625,\n",
       " 'interconnected': 0.015625,\n",
       " 'network': 0.015625,\n",
       " 'valoir': 0.015625,\n",
       " 'appeler': 0.03125,\n",
       " 'réseau': 0.09375,\n",
       " 'communiquer': 0.03125,\n",
       " 'grâce': 0.015625,\n",
       " 'règle': 0.03125,\n",
       " 'échange': 0.015625,\n",
       " 'donnée': 0.015625,\n",
       " 'standard': 0.015625,\n",
       " 'nom': 0.015625,\n",
       " 'protocole': 0.03125,\n",
       " 'permettre': 0.046875,\n",
       " 'faire': 0.015625,\n",
       " 'ordinateur': 0.03125,\n",
       " 'international': 0.015625,\n",
       " 'relier': 0.015625,\n",
       " 'million': 0.03125,\n",
       " 'world': 0.015625,\n",
       " 'wid': 0.015625,\n",
       " 'acronyme': 0.015625,\n",
       " 'www': 0.015625,\n",
       " 'consulter': 0.015625,\n",
       " 'site': 0.015625,\n",
       " 'utiliser': 0.03125,\n",
       " 'http': 0.015625,\n",
       " 'hypertext': 0.015625,\n",
       " 'transfert': 0.015625,\n",
       " 'protocol': 0.015625,\n",
       " 'service': 0.03125,\n",
       " 'terme': 0.015625,\n",
       " 'volume': 0.015625,\n",
       " 'information': 0.0625,\n",
       " 'transiter': 0.015625,\n",
       " 'internaute': 0.015625,\n",
       " 'accéder': 0.015625,\n",
       " 'document': 0.015625,\n",
       " 'multimédia': 0.015625,\n",
       " 'serveur': 0.046875,\n",
       " 'caractéristique': 0.015625,\n",
       " 'principal': 0.015625,\n",
       " 'pouvoir': 0.015625,\n",
       " 'moment': 0.015625,\n",
       " 'rediriger': 0.015625,\n",
       " 'utilisateur': 0.03125,\n",
       " 'contenu': 0.015625,\n",
       " 'd': 0.015625,\n",
       " 'mettre': 0.015625,\n",
       " 'disposition': 0.015625,\n",
       " 'nombre': 0.015625,\n",
       " 'ressource': 0.015625,\n",
       " 'logiciel': 0.015625,\n",
       " 'image': 0.015625,\n",
       " 'vidéo': 0.015625,\n",
       " 'etc.': 0.015625,\n",
       " 'énorme': 0.015625,\n",
       " 'bibliothèque': 0.015625,\n",
       " 'nécessaire': 0.015625,\n",
       " 'disposer': 0.015625,\n",
       " 'outil': 0.015625,\n",
       " 'efficace': 0.015625,\n",
       " 'retrouver': 0.015625,\n",
       " 'désirer': 0.015625,\n",
       " 'trouve': 0.015625,\n",
       " 'principalement': 0.015625,\n",
       " 'catalogue': 0.015625,\n",
       " 'annuaire': 0.015625,\n",
       " 'moteur': 0.015625,\n",
       " 'recherche': 0.015625}"
      ]
     },
     "execution_count": 373,
     "metadata": {},
     "output_type": "execute_result"
    }
   ],
   "source": [
    "word_frequencies"
   ]
  },
  {
   "cell_type": "code",
   "execution_count": 374,
   "id": "c5eedecc",
   "metadata": {},
   "outputs": [
    {
     "data": {
      "text/plain": [
       "{1: 0.171875,\n",
       " 2: 0.078125,\n",
       " 3: 0.171875,\n",
       " 4: 0.578125,\n",
       " 5: 0.28125,\n",
       " 6: 0.03125,\n",
       " 7: 0.0625,\n",
       " 8: 0.234375,\n",
       " 9: 0.4375,\n",
       " 10: 0.265625,\n",
       " 11: 0.125,\n",
       " 12: 0.25,\n",
       " 13: 0.265625,\n",
       " 14: 0.046875,\n",
       " 15: 0.03125}"
      ]
     },
     "execution_count": 374,
     "metadata": {},
     "output_type": "execute_result"
    }
   ],
   "source": [
    "# calculate the weigh of sentences\n",
    "sentencesWeight = {}\n",
    "for key in tokenSentences.keys():\n",
    "    weight=0\n",
    "    for word in tokenSentences[key]:\n",
    "        if word.text in word_frequencies:\n",
    "            weight = weight + word_frequencies[word.text]\n",
    "            \n",
    "    sentencesWeight[key] = weight\n",
    "    \n",
    "sentencesWeight"
   ]
  },
  {
   "cell_type": "code",
   "execution_count": 375,
   "id": "c4a6b259",
   "metadata": {},
   "outputs": [
    {
     "data": {
      "text/plain": [
       "[4, 9, 5, 10, 13]"
      ]
     },
     "execution_count": 375,
     "metadata": {},
     "output_type": "execute_result"
    }
   ],
   "source": [
    "# get most frequent sentences\n",
    "maxSentWeight = sorted(sentencesWeight, key=sentencesWeight.get, reverse=True)[:5]\n",
    "maxSentWeight"
   ]
  },
  {
   "cell_type": "code",
   "execution_count": 376,
   "id": "5f84a1ca",
   "metadata": {},
   "outputs": [
    {
     "name": "stdout",
     "output_type": "stream",
     "text": [
      "c'est au début des années 90 qu'internet va connaître un formidable essor avec l'arrivée du web : pour la première fois internet présente une interface graphique interactive, simple, conviviale et rapide.\n",
      "le mot internet vient de l'anglais interconnected networks, ce qui lui a valu d'être appelé le \"réseau des réseaux\".\n",
      "le web ou le world wide web (d'où l'acronyme www) permet de consulter des sites web en utilisant le protocole http (hypertext transfert protocol).\n",
      "ce service est le plus utilisé en termes de volume d'informations transitant sur le réseau internet.\n",
      "internet met à la disposition de ses utilisateurs un grand nombre de ressources (informations, logiciels, images, vidéos, etc.), il se présente comme une énorme bibliothèque.\n"
     ]
    }
   ],
   "source": [
    "# final result \n",
    "for key in tokenSentences.keys():\n",
    "    if key in maxSentWeight:\n",
    "        print (tokenSentences[key])"
   ]
  }
 ],
 "metadata": {
  "kernelspec": {
   "display_name": "Python 3",
   "language": "python",
   "name": "python3"
  },
  "language_info": {
   "codemirror_mode": {
    "name": "ipython",
    "version": 3
   },
   "file_extension": ".py",
   "mimetype": "text/x-python",
   "name": "python",
   "nbconvert_exporter": "python",
   "pygments_lexer": "ipython3",
   "version": "3.8.8"
  }
 },
 "nbformat": 4,
 "nbformat_minor": 5
}
